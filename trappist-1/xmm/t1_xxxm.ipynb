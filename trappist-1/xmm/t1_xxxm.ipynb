{
 "cells": [
  {
   "cell_type": "code",
   "execution_count": 3,
   "metadata": {},
   "outputs": [],
   "source": [
    "import numpy as np\n",
    "import matplotlib.pyplot as plt\n",
    "import glob\n",
    "import astropy.io.fits as fits\n",
    "import os\n",
    "from scipy.io.idl import readsav\n",
    "from astropy.table import Table\n",
    "from astropy.io import ascii\n",
    "import astropy.units as u\n",
    "\n",
    "\n",
    "%matplotlib inline\n",
    "from matplotlib import rcParams\n",
    "rcParams[\"figure.figsize\"] = (14, 5)\n",
    "rcParams[\"font.size\"] = 20"
   ]
  },
  {
   "cell_type": "code",
   "execution_count": 4,
   "metadata": {},
   "outputs": [],
   "source": [
    "xmm_file = 'Trappist-1.fits'"
   ]
  },
  {
   "cell_type": "code",
   "execution_count": 5,
   "metadata": {},
   "outputs": [],
   "source": [
    "hdul = fits.open(xmm_file)"
   ]
  },
  {
   "cell_type": "code",
   "execution_count": 6,
   "metadata": {},
   "outputs": [
    {
     "name": "stdout",
     "output_type": "stream",
     "text": [
      "Filename: Trappist-1.fits\n",
      "No.    Name      Ver    Type      Cards   Dimensions   Format\n",
      "  0  PRIMARY       1 PrimaryHDU      26   ()      \n",
      "  1  Obs Spectrum    1 BinTableHDU     44   8R x 12C   [E, E, E, E, E, E, E, E, E, E, E, E]   \n",
      "  2  Model Spectrum    1 BinTableHDU     21   2401R x 4C   [E, E, E, E]   \n",
      "  3  Light curve    1 BinTableHDU     20   6R x 3C   [E, E, E]   \n"
     ]
    }
   ],
   "source": [
    "hdul.info()"
   ]
  },
  {
   "cell_type": "code",
   "execution_count": 7,
   "metadata": {},
   "outputs": [
    {
     "name": "stdout",
     "output_type": "stream",
     "text": [
      "['Wave', 'bin_width', 'Rate', 'Rate_err', 'pn_Rate', 'pn_Rate_err', 'Flux', 'Flux_err', 'MFlux', 'Correction', 'CFlux', 'CFlux_err']\n",
      "['Wave', 'bin_width', 'Rate', 'Flux']\n",
      "['Time', 'Rate', 'Error']\n"
     ]
    }
   ],
   "source": [
    "for i in (1,2,3):\n",
    "    data = hdul[i].data\n",
    "    print(data.names)"
   ]
  },
  {
   "cell_type": "code",
   "execution_count": 8,
   "metadata": {},
   "outputs": [
    {
     "data": {
      "text/plain": [
       "XTENSION= 'BINTABLE'           / binary table extension                         \n",
       "BITPIX  =                    8 / array data type                                \n",
       "NAXIS   =                    2 / number of array dimensions                     \n",
       "NAXIS1  =                   48 / length of dimension 1                          \n",
       "NAXIS2  =                    8 / length of dimension 2                          \n",
       "PCOUNT  =                    0 / number of group parameters                     \n",
       "GCOUNT  =                    1 / number of groups                               \n",
       "TFIELDS =                   12 / number of table fields                         \n",
       "TTYPE1  = 'Wave    '                                                            \n",
       "TFORM1  = 'E       '                                                            \n",
       "TUNIT1  = 'Angstrom'                                                            \n",
       "TTYPE2  = 'bin_width'                                                           \n",
       "TFORM2  = 'E       '                                                            \n",
       "TUNIT2  = 'Angstrom'                                                            \n",
       "TTYPE3  = 'Rate    '                                                            \n",
       "TFORM3  = 'E       '                                                            \n",
       "TUNIT3  = 'cts s-1 AA-1 cm-2'                                                   \n",
       "TTYPE4  = 'Rate_err'                                                            \n",
       "TFORM4  = 'E       '                                                            \n",
       "TUNIT4  = 'cts s-1 AA-1 cm-2'                                                   \n",
       "TTYPE5  = 'pn_Rate '                                                            \n",
       "TFORM5  = 'E       '                                                            \n",
       "TUNIT5  = 'cts s-1 AA-1 cm-2'                                                   \n",
       "TTYPE6  = 'pn_Rate_err'                                                         \n",
       "TFORM6  = 'E       '                                                            \n",
       "TUNIT6  = 'cts s-1 AA-1 cm-2'                                                   \n",
       "TTYPE7  = 'Flux    '                                                            \n",
       "TFORM7  = 'E       '                                                            \n",
       "TUNIT7  = 'erg s-1 AA-1 cm-2'                                                   \n",
       "TTYPE8  = 'Flux_err'                                                            \n",
       "TFORM8  = 'E       '                                                            \n",
       "TUNIT8  = 'erg s-1 AA-1 cm-2'                                                   \n",
       "TTYPE9  = 'MFlux   '                                                            \n",
       "TFORM9  = 'E       '                                                            \n",
       "TUNIT9  = 'erg s-1 AA-1 cm-2'                                                   \n",
       "TTYPE10 = 'Correction'                                                          \n",
       "TFORM10 = 'E       '                                                            \n",
       "TTYPE11 = 'CFlux   '                                                            \n",
       "TFORM11 = 'E       '                                                            \n",
       "TUNIT11 = 'erg s-1 AA-1 cm-2'                                                   \n",
       "TTYPE12 = 'CFlux_err'                                                           \n",
       "TFORM12 = 'E       '                                                            \n",
       "TUNIT12 = 'erg s-1 AA-1 cm-2'                                                   \n",
       "EXTNAME = 'Obs Spectrum'                                                        "
      ]
     },
     "execution_count": 8,
     "metadata": {},
     "output_type": "execute_result"
    }
   ],
   "source": [
    "hdul[1].header"
   ]
  },
  {
   "cell_type": "code",
   "execution_count": 21,
   "metadata": {},
   "outputs": [
    {
     "data": {
      "text/plain": [
       "<ErrorbarContainer object of 3 artists>"
      ]
     },
     "execution_count": 21,
     "metadata": {},
     "output_type": "execute_result"
    },
    {
     "data": {
      "image/png": "[encoded data removed]",
      "text/plain": [
       "<Figure size 432x288 with 1 Axes>"
      ]
     },
     "metadata": {
      "needs_background": "light"
     },
     "output_type": "display_data"
    }
   ],
   "source": [
    "data = hdul[1].data\n",
    "plt.errorbar(data['WAVE'], data['CFlux'], xerr=data['BIN_WIDTH']/2, yerr = data['CFLUX_err'], ls ='none')\n",
    "plt.errorbar(data['WAVE'], data['Flux'], xerr=data['BIN_WIDTH']/2, yerr = data['FLUX_err'], ls ='none')"
   ]
  },
  {
   "cell_type": "code",
   "execution_count": 10,
   "metadata": {},
   "outputs": [
    {
     "data": {
      "text/plain": [
       "(-1, 65)"
      ]
     },
     "execution_count": 10,
     "metadata": {},
     "output_type": "execute_result"
    },
    {
     "data": {
      "image/png": "[encoded data removed]",
      "text/plain": [
       "<Figure size 432x288 with 1 Axes>"
      ]
     },
     "metadata": {
      "needs_background": "light"
     },
     "output_type": "display_data"
    }
   ],
   "source": [
    "mdata = hdul[2].data\n",
    "plt.plot(mdata['WAVE'], mdata['FLUX'])\n",
    "#plt.plot(data['WAVE'], data['MFLUX'])\n",
    "plt.xlim(-1, 65)"
   ]
  },
  {
   "cell_type": "code",
   "execution_count": 11,
   "metadata": {},
   "outputs": [
    {
     "data": {
      "text/plain": [
       "<ErrorbarContainer object of 3 artists>"
      ]
     },
     "execution_count": 11,
     "metadata": {},
     "output_type": "execute_result"
    },
    {
     "data": {
      "image/png": "[encoded data removed]",
      "text/plain": [
       "<Figure size 432x288 with 1 Axes>"
      ]
     },
     "metadata": {
      "needs_background": "light"
     },
     "output_type": "display_data"
    }
   ],
   "source": [
    "lc = hdul[3].data\n",
    "plt.errorbar(lc['TIME'], lc['RATE'], yerr=lc['ERROR'], marker='o', ls='none')"
   ]
  },
  {
   "cell_type": "code",
   "execution_count": 12,
   "metadata": {},
   "outputs": [
    {
     "data": {
      "text/plain": [
       "(-1, 65)"
      ]
     },
     "execution_count": 12,
     "metadata": {},
     "output_type": "execute_result"
    },
    {
     "data": {
      "image/png": "[encoded data removed]",
      "text/plain": [
       "<Figure size 432x288 with 1 Axes>"
      ]
     },
     "metadata": {
      "needs_background": "light"
     },
     "output_type": "display_data"
    }
   ],
   "source": [
    "plt.errorbar(data['WAVE'], data['CFlux'], xerr=data['BIN_WIDTH']/2, yerr = data['CFLUX_err'], ls ='none')\n",
    "plt.plot(mdata['WAVE'], mdata['FLUX'], zorder=-1)\n",
    "plt.xlim(-1, 65)"
   ]
  },
  {
   "cell_type": "code",
   "execution_count": 13,
   "metadata": {},
   "outputs": [
    {
     "data": {
      "text/plain": [
       "XTENSION= 'BINTABLE'           / binary table extension                         \n",
       "BITPIX  =                    8 / array data type                                \n",
       "NAXIS   =                    2 / number of array dimensions                     \n",
       "NAXIS1  =                   16 / length of dimension 1                          \n",
       "NAXIS2  =                 2401 / length of dimension 2                          \n",
       "PCOUNT  =                    0 / number of group parameters                     \n",
       "GCOUNT  =                    1 / number of groups                               \n",
       "TFIELDS =                    4 / number of table fields                         \n",
       "TTYPE1  = 'Wave    '                                                            \n",
       "TFORM1  = 'E       '                                                            \n",
       "TUNIT1  = 'Angstrom'                                                            \n",
       "TTYPE2  = 'bin_width'                                                           \n",
       "TFORM2  = 'E       '                                                            \n",
       "TUNIT2  = 'Angstrom'                                                            \n",
       "TTYPE3  = 'Rate    '                                                            \n",
       "TFORM3  = 'E       '                                                            \n",
       "TUNIT3  = 'cts s-1 AA-1 cm-2'                                                   \n",
       "TTYPE4  = 'Flux    '                                                            \n",
       "TFORM4  = 'E       '                                                            \n",
       "TUNIT4  = 'erg s-1 AA-1 cm-2'                                                   \n",
       "EXTNAME = 'Model Spectrum'                                                      "
      ]
     },
     "execution_count": 13,
     "metadata": {},
     "output_type": "execute_result"
    }
   ],
   "source": [
    "hdul[2].header"
   ]
  },
  {
   "cell_type": "code",
   "execution_count": 14,
   "metadata": {},
   "outputs": [
    {
     "data": {
      "image/png": "[encoded data removed]",
      "text/plain": [
       "<Figure size 432x288 with 1 Axes>"
      ]
     },
     "metadata": {
      "needs_background": "light"
     },
     "output_type": "display_data"
    }
   ],
   "source": [
    "plt.plot(data['wave'],data['bin_width'])\n",
    "plt.plot(mdata['wave'],mdata['bin_width'])\n",
    "plt.yscale('log')"
   ]
  },
  {
   "cell_type": "code",
   "execution_count": 15,
   "metadata": {},
   "outputs": [
    {
     "data": {
      "text/plain": [
       "[<matplotlib.lines.Line2D at 0x7f427a58f198>]"
      ]
     },
     "execution_count": 15,
     "metadata": {},
     "output_type": "execute_result"
    },
    {
     "data": {
      "image/png": "[encoded data removed]",
      "text/plain": [
       "<Figure size 432x288 with 1 Axes>"
      ]
     },
     "metadata": {
      "needs_background": "light"
     },
     "output_type": "display_data"
    }
   ],
   "source": [
    "plt.step(data['WAVE'], data['CFlux'])\n"
   ]
  },
  {
   "cell_type": "code",
   "execution_count": 16,
   "metadata": {},
   "outputs": [
    {
     "data": {
      "text/plain": [
       "SIMPLE  =                    T / conforms to FITS standard                      \n",
       "BITPIX  =                    8 / array data type                                \n",
       "NAXIS   =                    0 / number of array dimensions                     \n",
       "EXTEND  =                    T                                                  \n",
       "TARGET  = 'Trappist-1'                                                          \n",
       "OBS_ID  = '0810210101'                                                          \n",
       "HIERARCH pn_FILTER = 'Thin1   '                                                 \n",
       "HIERARCH pn_MODE = 'IMAGING '                                                   \n",
       "HIERARCH pn_SUBMODE = 'PrimeFullWindow'                                         \n",
       "HIERARCH pn_DATE-OBS = '2018-12-10T04:36:47'                                    \n",
       "HIERARCH pn_DATE-END = '2018-12-10T10:32:49'                                    \n",
       "HIERARCH pn_EXP_ID = '0810210101001'                                            \n",
       "HIERARCH pn_DURATION = 23518.0                                                  \n",
       "HIERARCH mos1_FILTER = 'Thin1   '                                               \n",
       "HIERARCH mos1_MODE = 'IMAGING '                                                 \n",
       "HIERARCH mos1_SUBMODE = 'PrimeFullWindow'                                       \n",
       "HIERARCH mos1_DATE-OBS = '2018-12-10T04:11:05'                                  \n",
       "HIERARCH mos1_DATE-END = '2018-12-10T10:38:07'                                  \n",
       "HIERARCH mos1_EXP_ID = '0810210101002'                                          \n",
       "HIERARCH mos2_FILTER = 'Thin1   '                                               \n",
       "HIERARCH mos2_MODE = 'IMAGING '                                                 \n",
       "HIERARCH mos2_SUBMODE = 'PrimeFullWindow'                                       \n",
       "HIERARCH mos2_DATE-OBS = '2018-12-10T04:11:27'                                  \n",
       "HIERARCH mos2_DATE-END = '2018-12-10T10:38:13'                                  \n",
       "HIERARCH mos2_EXP_ID = '0810210101003'                                          \n",
       "HIERARCH Instrument = 'EPIC    '                                                "
      ]
     },
     "execution_count": 16,
     "metadata": {},
     "output_type": "execute_result"
    }
   ],
   "source": [
    "hdul[0].header"
   ]
  },
  {
   "cell_type": "markdown",
   "metadata": {},
   "source": [
    "So...I think CFlux is the one to add, have emailed to confirm. No information in headers about what the model parameters are? Lightcurve looks consistent with a straight line. Going to add CFlux to the big spectrum."
   ]
  },
  {
   "cell_type": "code",
   "execution_count": 17,
   "metadata": {},
   "outputs": [],
   "source": [
    "from astropy.time import Time"
   ]
  },
  {
   "cell_type": "code",
   "execution_count": 18,
   "metadata": {},
   "outputs": [],
   "source": [
    "t = Time(hdul[0].header['HIERARCH pn_DATE-OBS'])"
   ]
  },
  {
   "cell_type": "code",
   "execution_count": 19,
   "metadata": {},
   "outputs": [
    {
     "data": {
      "text/plain": [
       "<Time object: scale='utc' format='isot' value=2018-12-10T04:36:47.000>"
      ]
     },
     "execution_count": 19,
     "metadata": {},
     "output_type": "execute_result"
    }
   ],
   "source": [
    "t"
   ]
  },
  {
   "cell_type": "code",
   "execution_count": 20,
   "metadata": {},
   "outputs": [
    {
     "data": {
      "text/plain": [
       "58462.19221064815"
      ]
     },
     "execution_count": 20,
     "metadata": {},
     "output_type": "execute_result"
    }
   ],
   "source": [
    "t.mjd"
   ]
  },
  {
   "cell_type": "code",
   "execution_count": null,
   "metadata": {},
   "outputs": [],
   "source": []
  }
 ],
 "metadata": {
  "kernelspec": {
   "display_name": "Python 3",
   "language": "python",
   "name": "python3"
  },
  "language_info": {
   "codemirror_mode": {
    "name": "ipython",
    "version": 3
   },
   "file_extension": ".py",
   "mimetype": "text/x-python",
   "name": "python",
   "nbconvert_exporter": "python",
   "pygments_lexer": "ipython3",
   "version": "3.6.8"
  }
 },
 "nbformat": 4,
 "nbformat_minor": 2
}
