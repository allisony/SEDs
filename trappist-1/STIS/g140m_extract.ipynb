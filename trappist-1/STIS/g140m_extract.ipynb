{
 "cells": [
  {
   "cell_type": "markdown",
   "metadata": {},
   "source": [
    "re- extracting the g140m data. First techniques from Bourrier papers. "
   ]
  },
  {
   "cell_type": "code",
   "execution_count": 60,
   "metadata": {},
   "outputs": [],
   "source": [
    "import numpy as np\n",
    "import matplotlib.pyplot as plt\n",
    "import astropy.io.fits as fits\n",
    "import os\n",
    "import glob\n",
    "from astropy.table import Table\n",
    "from astropy.io import ascii\n",
    "import astropy.units as u\n",
    "import astropy.constants as const\n",
    "\n",
    "#matplotlib set up\n",
    "%matplotlib inline\n",
    "from matplotlib import rcParams\n",
    "rcParams[\"figure.figsize\"] = (14, 5)\n",
    "rcParams[\"font.size\"] = 20"
   ]
  },
  {
   "cell_type": "code",
   "execution_count": 61,
   "metadata": {},
   "outputs": [],
   "source": [
    "import stistools"
   ]
  },
  {
   "cell_type": "code",
   "execution_count": 62,
   "metadata": {},
   "outputs": [],
   "source": [
    "path = '/home/david/work/muscles/trappist-1/hst/g140m_cals/'"
   ]
  },
  {
   "cell_type": "code",
   "execution_count": 63,
   "metadata": {},
   "outputs": [
    {
     "data": {
      "text/plain": [
       "['all_obs', 'staging', 'test']"
      ]
     },
     "execution_count": 63,
     "metadata": {},
     "output_type": "execute_result"
    }
   ],
   "source": [
    "dates = os.listdir(path)\n",
    "dates= sorted(dates)\n",
    "dates\n"
   ]
  },
  {
   "cell_type": "markdown",
   "metadata": {},
   "source": [
    "Try just the test."
   ]
  },
  {
   "cell_type": "code",
   "execution_count": 64,
   "metadata": {},
   "outputs": [
    {
     "data": {
      "text/plain": [
       "['/home/david/work/muscles/trappist-1/hst/g140m_cals/test/od3v01010_x1d.fits',\n",
       " '/home/david/work/muscles/trappist-1/hst/g140m_cals/test/od3v01020_x1d.fits',\n",
       " '/home/david/work/muscles/trappist-1/hst/g140m_cals/test/od3v02010_x1d.fits']"
      ]
     },
     "execution_count": 64,
     "metadata": {},
     "output_type": "execute_result"
    }
   ],
   "source": [
    "d1 = path + dates[2]\n",
    "\n",
    "x1ds = glob.glob(d1+'/*x1d.fits')\n",
    "x1ds"
   ]
  },
  {
   "cell_type": "code",
   "execution_count": 65,
   "metadata": {},
   "outputs": [
    {
     "data": {
      "text/plain": [
       "[<matplotlib.lines.Line2D at 0x7fbe416a4c18>]"
      ]
     },
     "execution_count": 65,
     "metadata": {},
     "output_type": "execute_result"
    },
    {
     "data": {
      "image/png": "[encoded data removed]",
      "text/plain": [
       "<Figure size 1008x360 with 1 Axes>"
      ]
     },
     "metadata": {
      "needs_background": "light"
     },
     "output_type": "display_data"
    }
   ],
   "source": [
    "f = []\n",
    "for x in x1ds:\n",
    "    data = fits.getdata(x, 1)[0]\n",
    "    #plt.step(data['WAVELENGTH'], data['FLUX'])\n",
    "    f.append(data['FLUX'])\n",
    "w = data['WAVELENGTH']\n",
    "f = np.mean(np.array(f), axis=0)\n",
    "plt.step(w,f)"
   ]
  },
  {
   "cell_type": "markdown",
   "metadata": {},
   "source": [
    "So the objective is to do better than that."
   ]
  },
  {
   "cell_type": "code",
   "execution_count": 66,
   "metadata": {},
   "outputs": [
    {
     "data": {
      "text/plain": [
       "'oref$n7p10323o_1dx.fits'"
      ]
     },
     "execution_count": 66,
     "metadata": {},
     "output_type": "execute_result"
    }
   ],
   "source": [
    "fits.getheader(x1ds[0],0)['XTRACTAB']"
   ]
  },
  {
   "cell_type": "code",
   "execution_count": 67,
   "metadata": {},
   "outputs": [],
   "source": [
    "os.environ['oref'] = d1"
   ]
  },
  {
   "cell_type": "code",
   "execution_count": 68,
   "metadata": {},
   "outputs": [
    {
     "name": "stdout",
     "output_type": "stream",
     "text": [
      "Filename: /home/david/work/muscles/trappist-1/hst/g140m_cals/test/n7p10323o_1dx.fits\n",
      "No.    Name      Ver    Type      Cards   Dimensions   Format\n",
      "  0  PRIMARY       1 PrimaryHDU      40   ()      \n",
      "  1  1DX           1 BinTableHDU     79   343R x 18C   [16A, 8A, 1I, 1I, 1E, 1I, 8D, 1E, 1E, 1E, 1E, 1I, 8D, 1I, 12A, 1I, 67A, 67A]   \n"
     ]
    }
   ],
   "source": [
    "bg = fits.open(d1+'/n7p10323o_1dx.fits')\n",
    "bg.info()"
   ]
  },
  {
   "cell_type": "code",
   "execution_count": 69,
   "metadata": {},
   "outputs": [],
   "source": [
    "bgd = bg[1].data"
   ]
  },
  {
   "cell_type": "code",
   "execution_count": 70,
   "metadata": {},
   "outputs": [
    {
     "data": {
      "text/plain": [
       "['APERTURE',\n",
       " 'OPT_ELEM',\n",
       " 'CENWAVE',\n",
       " 'SPORDER',\n",
       " 'EXTRSIZE',\n",
       " 'NCOEFFSL',\n",
       " 'SLTCOEFF',\n",
       " 'BK1SIZE',\n",
       " 'BK2SIZE',\n",
       " 'BK1OFFST',\n",
       " 'BK2OFFST',\n",
       " 'NCOEFFBK',\n",
       " 'BKTCOEFF',\n",
       " 'BACKORD',\n",
       " 'XTRACALG',\n",
       " 'MAXSRCH',\n",
       " 'PEDIGREE',\n",
       " 'DESCRIP']"
      ]
     },
     "execution_count": 70,
     "metadata": {},
     "output_type": "execute_result"
    }
   ],
   "source": [
    "bgd.names"
   ]
  },
  {
   "cell_type": "code",
   "execution_count": 71,
   "metadata": {},
   "outputs": [
    {
     "data": {
      "text/plain": [
       "array([1425, 1173, 1218, 1222, 1272, 1321, 1371, 1387, 1400, 1420, 1470,\n",
       "       1518, 1540, 1550, 1567, 1616, 1640, 1665, 1714, 1425, 1173, 1218,\n",
       "       1222, 1272, 1321, 1371, 1387, 1400, 1420, 1470, 1518, 1540, 1550,\n",
       "       1567, 1616, 1640, 1665, 1714, 1425, 1173, 1218, 1222, 1272, 1321,\n",
       "       1371, 1387, 1400, 1420, 1470, 1518, 1540, 1550, 1567, 1616, 1640,\n",
       "       1665, 1714, 1425, 1173, 1218, 1222, 1272, 1321, 1371, 1387, 1400,\n",
       "       1420, 1470, 1518, 1540, 1550, 1567, 1616, 1640, 1665, 1714, 1425,\n",
       "       1173, 1218, 1222, 1272, 1321, 1371, 1387, 1400, 1420, 1470, 1518,\n",
       "       1540, 1550, 1567, 1616, 1640, 1665, 1714, 1425, 1173, 1218, 1222,\n",
       "       1272, 1321, 1371, 1387, 1400, 1420, 1470, 1518, 1540, 1550, 1567,\n",
       "       1616, 1640, 1665, 1714, 1425, 1173, 1218, 1222, 1272, 1321, 1371,\n",
       "       1387, 1400, 1420, 1470, 1518, 1540, 1550, 1567, 1616, 1640, 1665,\n",
       "       1714, 1425, 1173, 1218, 1222, 1272, 1321, 1371, 1387, 1400, 1420,\n",
       "       1470, 1518, 1540, 1550, 1567, 1616, 1640, 1665, 1714, 1425, 1173,\n",
       "       1218, 1222, 1272, 1321, 1371, 1387, 1400, 1420, 1470, 1518, 1540,\n",
       "       1550, 1567, 1616, 1640, 1665, 1714,   -1,   -1,   -1,   -1,   -1,\n",
       "         -1,   -1,   -1,   -1,   -1,   -1,   -1,   -1,   -1,   -1,   -1,\n",
       "         -1,   -1,   -1,   -1,   -1,   -1,   -1,   -1,   -1,   -1,   -1,\n",
       "         -1,   -1,   -1,   -1,   -1,   -1,   -1,   -1,   -1,   -1,   -1,\n",
       "         -1,   -1,   -1,   -1,   -1,   -1,   -1,   -1,   -1,   -1,   -1,\n",
       "         -1,   -1,   -1,   -1,   -1,   -1,   -1,   -1,   -1,   -1,   -1,\n",
       "         -1,   -1,   -1,   -1,   -1,   -1,   -1,   -1,   -1,   -1,   -1,\n",
       "         -1,   -1,   -1,   -1,   -1,   -1,   -1,   -1,   -1,   -1,   -1,\n",
       "         -1,   -1,   -1,   -1,   -1,   -1,   -1,   -1,   -1,   -1,   -1,\n",
       "         -1,   -1,   -1,   -1,   -1,   -1,   -1,   -1,   -1,   -1,   -1,\n",
       "         -1,   -1,   -1,   -1,   -1,   -1,   -1,   -1,   -1,   -1,   -1,\n",
       "         -1,   -1,   -1,   -1,   -1,   -1,   -1,   -1,   -1,   -1,   -1,\n",
       "         -1,   -1,   -1,   -1,   -1,   -1,   -1,   -1,   -1,   -1,   -1,\n",
       "         -1,   -1,   -1,   -1,   -1,   -1,   -1,   -1,   -1,   -1,   -1,\n",
       "         -1,   -1,   -1,   -1,   -1,   -1,   -1,   -1,   -1,   -1,   -1,\n",
       "         -1,   -1,   -1,   -1,   -1,   -1,   -1,   -1,   -1,   -1,   -1,\n",
       "         -1,   -1], dtype=int16)"
      ]
     },
     "execution_count": 71,
     "metadata": {},
     "output_type": "execute_result"
    }
   ],
   "source": [
    "bgd['CENWAVE']"
   ]
  },
  {
   "cell_type": "code",
   "execution_count": 72,
   "metadata": {},
   "outputs": [],
   "source": [
    "hdr = fits.getheader(x1ds[0],0)"
   ]
  },
  {
   "cell_type": "code",
   "execution_count": 73,
   "metadata": {},
   "outputs": [],
   "source": [
    "cw=hdr['CENWAVE']"
   ]
  },
  {
   "cell_type": "code",
   "execution_count": 74,
   "metadata": {},
   "outputs": [
    {
     "data": {
      "text/plain": [
       "FITS_rec([('52X0.05D1', 'G140M', 1222, 1, 11., 1, [0., 0., 0., 0., 0., 0., 0., 0.], 5., 5., -30., 30., 1, [-0.77999997,  0.        ,  0.        ,  0.        ,  0.        ,  0.        ,  0.        ,  0.        ], 0, 'Unweighted', 1024, 'INFLIGHT 29/05/97', 'Analysis from prop. 7064')],\n",
       "         dtype=(numpy.record, [('APERTURE', 'S16'), ('OPT_ELEM', 'S8'), ('CENWAVE', '>i2'), ('SPORDER', '>i2'), ('EXTRSIZE', '>f4'), ('NCOEFFSL', '>i2'), ('SLTCOEFF', '>f8', (8,)), ('BK1SIZE', '>f4'), ('BK2SIZE', '>f4'), ('BK1OFFST', '>f4'), ('BK2OFFST', '>f4'), ('NCOEFFBK', '>i2'), ('BKTCOEFF', '>f8', (8,)), ('BACKORD', '>i2'), ('XTRACALG', 'S12'), ('MAXSRCH', '>i2'), ('PEDIGREE', 'S67'), ('DESCRIP', 'S67')]))"
      ]
     },
     "execution_count": 74,
     "metadata": {},
     "output_type": "execute_result"
    }
   ],
   "source": [
    "bgd[(bgd['CENWAVE']==cw) & (bgd['OPT_ELEM']=='G140M') & (bgd['APERTURE']==hdr['APERTURE']+'D1')]"
   ]
  },
  {
   "cell_type": "code",
   "execution_count": 75,
   "metadata": {},
   "outputs": [
    {
     "data": {
      "text/plain": [
       "'52X0.05'"
      ]
     },
     "execution_count": 75,
     "metadata": {},
     "output_type": "execute_result"
    }
   ],
   "source": [
    "hdr['APERTURE']"
   ]
  },
  {
   "cell_type": "markdown",
   "metadata": {},
   "source": [
    "So if I make a new 1dx file with the adjusted background regions and re-reduce with that, it should work?"
   ]
  },
  {
   "cell_type": "code",
   "execution_count": 78,
   "metadata": {},
   "outputs": [],
   "source": [
    "nbg = fits.open(d1+'/new_bg_1dx.fits')"
   ]
  },
  {
   "cell_type": "code",
   "execution_count": 80,
   "metadata": {},
   "outputs": [
    {
     "data": {
      "text/plain": [
       "(array([60]),)"
      ]
     },
     "execution_count": 80,
     "metadata": {},
     "output_type": "execute_result"
    }
   ],
   "source": [
    "np.where((bgd['CENWAVE']==cw) & (bgd['OPT_ELEM']=='G140M') & (bgd['APERTURE']==hdr['APERTURE']+'D1'))"
   ]
  },
  {
   "cell_type": "code",
   "execution_count": 82,
   "metadata": {},
   "outputs": [
    {
     "data": {
      "text/plain": [
       "('52X0.05D1', 'G140M', 1222, 1, 11.0, 1, array([0., 0., 0., 0., 0., 0., 0., 0.]), 5.0, 5.0, -30.0, 30.0, 1, array([-0.77999997,  0.        ,  0.        ,  0.        ,  0.        ,\n",
       "        0.        ,  0.        ,  0.        ]), 0, 'Unweighted', 1024, 'INFLIGHT 29/05/97', 'Analysis from prop. 7064')"
      ]
     },
     "execution_count": 82,
     "metadata": {},
     "output_type": "execute_result"
    }
   ],
   "source": [
    "bgd[60]"
   ]
  },
  {
   "cell_type": "code",
   "execution_count": 83,
   "metadata": {},
   "outputs": [
    {
     "data": {
      "text/plain": [
       "('52X0.05D1', 'G140M', 1222, 1, 11.0, 1, array([0., 0., 0., 0., 0., 0., 0., 0.]), 5.0, 5.0, -30.0, 30.0, 1, array([-0.77999997,  0.        ,  0.        ,  0.        ,  0.        ,\n",
       "        0.        ,  0.        ,  0.        ]), 0, 'Unweighted', 1024, 'INFLIGHT 29/05/97', 'Analysis from prop. 7064')"
      ]
     },
     "execution_count": 83,
     "metadata": {},
     "output_type": "execute_result"
    }
   ],
   "source": [
    "edit = nbg[1].data[60]\n",
    "edit"
   ]
  },
  {
   "cell_type": "markdown",
   "metadata": {},
   "source": [
    "B+ use backround regions of 6 to 20 pixels. How does that convert into what to edit? Where is the width measuered from - before or after the offset? Doesn't say in handbook - helpdesk?"
   ]
  },
  {
   "cell_type": "code",
   "execution_count": null,
   "metadata": {},
   "outputs": [],
   "source": []
  }
 ],
 "metadata": {
  "kernelspec": {
   "display_name": "Python 3",
   "language": "python",
   "name": "python3"
  },
  "language_info": {
   "codemirror_mode": {
    "name": "ipython",
    "version": 3
   },
   "file_extension": ".py",
   "mimetype": "text/x-python",
   "name": "python",
   "nbconvert_exporter": "python",
   "pygments_lexer": "ipython3",
   "version": "3.6.8"
  }
 },
 "nbformat": 4,
 "nbformat_minor": 2
}
