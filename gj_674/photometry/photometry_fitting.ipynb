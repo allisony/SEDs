{
 "cells": [
  {
   "cell_type": "markdown",
   "metadata": {},
   "source": [
    "Photometry for GJ674"
   ]
  },
  {
   "cell_type": "code",
   "execution_count": 11,
   "metadata": {},
   "outputs": [],
   "source": [
    "import numpy as np\n",
    "import matplotlib.pyplot as plt\n",
    "import glob\n",
    "import astropy.io.fits as fits\n",
    "import os\n",
    "from scipy.io.idl import readsav\n",
    "from astropy.table import Table\n",
    "from astropy.io import ascii\n",
    "import astropy.units as u\n",
    "\n",
    "\n",
    "%matplotlib inline\n",
    "from matplotlib import rcParams\n",
    "rcParams[\"figure.figsize\"] = (7, 7)\n",
    "rcParams[\"font.size\"] = 20"
   ]
  },
  {
   "cell_type": "markdown",
   "metadata": {},
   "source": [
    "Using code from my vot_to_phot.py script"
   ]
  },
  {
   "cell_type": "code",
   "execution_count": 3,
   "metadata": {},
   "outputs": [],
   "source": [
    "phottab = 'GJ674_5as_vizier_votable.vot'"
   ]
  },
  {
   "cell_type": "code",
   "execution_count": 4,
   "metadata": {},
   "outputs": [],
   "source": [
    "from astropy.io.votable import parse"
   ]
  },
  {
   "cell_type": "code",
   "execution_count": 5,
   "metadata": {},
   "outputs": [
    {
     "name": "stderr",
     "output_type": "stream",
     "text": [
      "WARNING: W03: GJ674_5as_vizier_votable.vot:16:0: W03: Implicitly generating an ID from a name '-out.form' -> '_-out.form' [astropy.io.votable.xmlutil]\n",
      "WARNING: W27: GJ674_5as_vizier_votable.vot:30:2: W27: COOSYS deprecated in VOTable 1.2 [astropy.io.votable.tree]\n",
      "WARNING: W27: GJ674_5as_vizier_votable.vot:31:2: W27: COOSYS deprecated in VOTable 1.2 [astropy.io.votable.tree]\n",
      "WARNING: W06: GJ674_5as_vizier_votable.vot:48:4: W06: Invalid UCD 'meta.table': Secondary word 'meta.table' is not valid as a primary word [astropy.io.votable.tree]\n"
     ]
    }
   ],
   "source": [
    "votable = parse(phottab)\n",
    "table = votable.get_first_table()\n",
    "data = table.array"
   ]
  },
  {
   "cell_type": "code",
   "execution_count": 6,
   "metadata": {},
   "outputs": [],
   "source": [
    "c = 2.998e8"
   ]
  },
  {
   "cell_type": "code",
   "execution_count": 7,
   "metadata": {},
   "outputs": [],
   "source": [
    "mask = ~data['sed_eflux'].mask\n",
    "masked_data = data[mask].data\n",
    "filters = np.unique(masked_data['sed_filter'].data)\n",
    "w = []\n",
    "f = []\n",
    "e = []\n",
    "for filter in filters:\n",
    "    w1 = 10.*c/np.mean(masked_data['sed_freq'][masked_data['sed_filter']==filter])\n",
    "    fj1 = masked_data['sed_flux'][masked_data['sed_filter']==filter]\n",
    "    e1 = masked_data['sed_eflux'][masked_data['sed_filter']==filter]\n",
    "    if len(fj1) >1:\n",
    "        fj_av = np.average(fj1, weights = (1/(e1**2)))\n",
    "        e1_av = abs(np.average((fj1-fj_av), weights = (1/(e1**2))))**0.5\n",
    "    else:\n",
    "        fj_av, e1_av = fj1[0], e1[0]\n",
    "    f1 = 2.99792458E-05*fj_av/(w1**2)\n",
    "    w.append(w1)\n",
    "    f.append(f1)\n",
    "    e.append((e1_av*f1)/fj_av)"
   ]
  },
  {
   "cell_type": "code",
   "execution_count": 12,
   "metadata": {},
   "outputs": [
    {
     "data": {
      "image/png": "[encoded data removed]",
      "text/plain": [
       "<Figure size 504x504 with 1 Axes>"
      ]
     },
     "metadata": {
      "needs_background": "light"
     },
     "output_type": "display_data"
    }
   ],
   "source": [
    "plt.figure('sed')\n",
    "for i in range(len(w)):\n",
    "    if e[i] !=0.0:\n",
    "        plt.errorbar(w[i], f[i], yerr=e[i], marker='o', ls='none')\n",
    "    else:\n",
    "        plt.errorbar(w[i], f[i], yerr=f[i]*0.1, marker='o', ls='none', uplims=True)\n",
    "plt.yscale('log')\n",
    "plt.xscale('log')"
   ]
  },
  {
   "cell_type": "markdown",
   "metadata": {},
   "source": [
    "In this case I don't want to average the repeats as the star is variable."
   ]
  },
  {
   "cell_type": "code",
   "execution_count": null,
   "metadata": {},
   "outputs": [],
   "source": []
  }
 ],
 "metadata": {
  "kernelspec": {
   "display_name": "Python 3",
   "language": "python",
   "name": "python3"
  },
  "language_info": {
   "codemirror_mode": {
    "name": "ipython",
    "version": 3
   },
   "file_extension": ".py",
   "mimetype": "text/x-python",
   "name": "python",
   "nbconvert_exporter": "python",
   "pygments_lexer": "ipython3",
   "version": "3.6.7"
  }
 },
 "nbformat": 4,
 "nbformat_minor": 2
}
